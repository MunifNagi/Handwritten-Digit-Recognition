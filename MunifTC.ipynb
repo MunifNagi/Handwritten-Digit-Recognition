{
 "cells": [
  {
   "cell_type": "code",
   "execution_count": 44,
   "metadata": {},
   "outputs": [],
   "source": [
    "import numpy as np\n",
    "import matplotlib.pyplot as pt\n",
    "import pandas as pd\n",
    "from sklearn.tree import DecisionTreeClassifier\n",
    "from sklearn.model_selection import train_test_split"
   ]
  },
  {
   "cell_type": "code",
   "execution_count": 45,
   "metadata": {},
   "outputs": [],
   "source": [
    "class Classifier:\n",
    "    def __init__(self):\n",
    "        self.correct = 0\n",
    "        self.wrong=0\n",
    "        self.total = 0\n",
    "    def accuracy(self):\n",
    "        return ((self.correct/self.total)*100)\n",
    "ClassifierAccuracy = [Classifier() for i in range(10)]"
   ]
  },
  {
   "cell_type": "code",
   "execution_count": 46,
   "metadata": {},
   "outputs": [],
   "source": [
    "data=pd.read_csv(\"train.csv\").values\n",
    "X=data[:,1:]\n",
    "y=data[:,0]"
   ]
  },
  {
   "cell_type": "markdown",
   "metadata": {},
   "source": [
    "Training and Learning the handwirtten digits"
   ]
  },
  {
   "cell_type": "code",
   "execution_count": 47,
   "metadata": {},
   "outputs": [],
   "source": [
    "X_train, X_test, y_train, y_test = train_test_split(X, y, test_size=0.5, random_state=1)"
   ]
  },
  {
   "cell_type": "code",
   "execution_count": 48,
   "metadata": {},
   "outputs": [],
   "source": [
    "clf=DecisionTreeClassifier()\n",
    "clf = clf.fit(X_train,y_train)\n"
   ]
  },
  {
   "cell_type": "markdown",
   "metadata": {},
   "source": [
    "Test on a random digit in the dataset"
   ]
  },
  {
   "cell_type": "code",
   "execution_count": 49,
   "metadata": {},
   "outputs": [
    {
     "data": {
      "image/png": "[encoded data removed]",
      "text/plain": [
       "<Figure size 432x288 with 1 Axes>"
      ]
     },
     "metadata": {
      "needs_background": "light"
     },
     "output_type": "display_data"
    },
    {
     "name": "stdout",
     "output_type": "stream",
     "text": [
      "Our Prediction for this number is: [8]\n"
     ]
    }
   ],
   "source": [
    "import random \n",
    "r=random.randint(1,len(X_test))\n",
    "d=X_test[r]\n",
    "d.shape=(28,28)\n",
    "pt.imshow(255-d,cmap='gray')\n",
    "pt.show()\n",
    "print(\"Our Prediction for this number is:\", clf.predict([X_test[r]]))"
   ]
  },
  {
   "cell_type": "code",
   "execution_count": 50,
   "metadata": {},
   "outputs": [],
   "source": [
    "y_pred = clf.predict(X_test)\n",
    "correct_pred=0\n",
    "for i in range(0,len(X_test)):\n",
    "    if (y_pred[i]==y_test[i]):\n",
    "        correct_pred+=1 \n",
    "        ClassifierAccuracy[y_test[i]].correct+=1\n",
    "        ClassifierAccuracy[y_test[i]].total+=1\n",
    "    else: \n",
    "        ClassifierAccuracy[y_test[i]].wrong+=1\n",
    "        ClassifierAccuracy[y_test[i]].total+=1"
   ]
  },
  {
   "cell_type": "code",
   "execution_count": 54,
   "metadata": {},
   "outputs": [],
   "source": [
    "Accuracy=[]\n",
    "digit=0\n",
    "Accuracy.append([\"HandWritten Digit\",\"Total Tests\",\"Accuracy of the Classifier\"])\n",
    "for classifier in ClassifierAccuracy:\n",
    "    Accuracy.append([digit,classifier.total,round(classifier.accuracy(),2)])\n",
    "    digit+=1"
   ]
  },
  {
   "cell_type": "code",
   "execution_count": 55,
   "metadata": {},
   "outputs": [
    {
     "data": {
      "text/html": [
       "<table><tr><td>HandWritten Digit</td><td>Total Tests</td><td>Accuracy of the Classifier</td></tr><tr><td>0</td><td>2101</td><td>90.91</td></tr><tr><td>1</td><td>2353</td><td>93.8</td></tr><tr><td>2</td><td>2081</td><td>80.49</td></tr><tr><td>3</td><td>2175</td><td>79.54</td></tr><tr><td>4</td><td>2006</td><td>82.6</td></tr><tr><td>5</td><td>1866</td><td>78.72</td></tr><tr><td>6</td><td>2095</td><td>87.06</td></tr><tr><td>7</td><td>2204</td><td>88.34</td></tr><tr><td>8</td><td>2047</td><td>78.31</td></tr><tr><td>9</td><td>2072</td><td>80.36</td></tr><tr><td>All Digits</td><td>21000</td><td>84.22</td></tr></table>"
      ],
      "text/plain": [
       "<IPython.core.display.HTML object>"
      ]
     },
     "metadata": {},
     "output_type": "display_data"
    }
   ],
   "source": [
    "Accuracy.append([\"All Digits\",len(X_test),round((correct_pred/len(X_test))*100,2)])    \n",
    "from IPython.display import HTML, display, Latex\n",
    "display(HTML(\n",
    "   '<table><tr>{}</tr></table>'.format(\n",
    "       '</tr><tr>'.join(\n",
    "           '<td>{}</td>'.format('</td><td>'.join(str(_) for _ in row)) for row in Accuracy)\n",
    "       )\n",
    "))\n"
   ]
  },
  {
   "cell_type": "code",
   "execution_count": 67,
   "metadata": {},
   "outputs": [
    {
     "data": {
      "text/plain": [
       "Text(0, 0.5, 'Accuracy of the Classsifier')"
      ]
     },
     "execution_count": 67,
     "metadata": {},
     "output_type": "execute_result"
    },
    {
     "data": {
      "image/png": "[encoded data removed]",
      "text/plain": [
       "<Figure size 432x288 with 1 Axes>"
      ]
     },
     "metadata": {
      "needs_background": "light"
     },
     "output_type": "display_data"
    }
   ],
   "source": [
    "pt.plot(range(0,10), [classifier.accuracy() for classifier in ClassifierAccuracy])\n",
    "pt.ylim((50,99))\n",
    "pt.xlabel('Handwritten Digit')\n",
    "pt.ylabel('Accuracy of the Classsifier')"
   ]
  },
  {
   "cell_type": "code",
   "execution_count": null,
   "metadata": {},
   "outputs": [],
   "source": []
  }
 ],
 "metadata": {
  "kernelspec": {
   "display_name": "Python 3",
   "language": "python",
   "name": "python3"
  },
  "language_info": {
   "codemirror_mode": {
    "name": "ipython",
    "version": 3
   },
   "file_extension": ".py",
   "mimetype": "text/x-python",
   "name": "python",
   "nbconvert_exporter": "python",
   "pygments_lexer": "ipython3",
   "version": "3.7.4"
  }
 },
 "nbformat": 4,
 "nbformat_minor": 4
}
